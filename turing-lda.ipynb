{
 "cells": [
  {
   "cell_type": "code",
   "execution_count": 1,
   "id": "fa7f7db8-418c-41f9-9f11-2912575b219d",
   "metadata": {},
   "outputs": [],
   "source": [
    "using Turing, Turing.RandomMeasures\n",
    "using Plots, StatsPlots\n",
    "using Statistics, Random, LinearAlgebra\n",
    "using MCMCChains"
   ]
  },
  {
   "cell_type": "markdown",
   "id": "11017e9d-e0a3-415e-9c01-536637e11cef",
   "metadata": {},
   "source": [
    "Define the LDA model."
   ]
  },
  {
   "cell_type": "code",
   "execution_count": 2,
   "id": "f1843b87-a91e-4339-975d-45933eb56554",
   "metadata": {},
   "outputs": [
    {
     "data": {
      "text/plain": [
       "LDA (generic function with 2 methods)"
      ]
     },
     "execution_count": 2,
     "metadata": {},
     "output_type": "execute_result"
    }
   ],
   "source": [
    "@model function LDA(w, K, D)\n",
    "    # K: number of topics\n",
    "    # D: number of words\n",
    "    # M = number of documents\n",
    "    # this gets the length of the 1st dimension of array w\n",
    "    M = size(w, 1)\n",
    "\n",
    "    # topic distributions\n",
    "    # A Vector of Vectors, size M, each initialized to undef\n",
    "    # Each inner vector will have K entries that add up to 1.\n",
    "    θ = Vector{Vector}(undef, M)\n",
    "    α = 1.0\n",
    "    for m = 1:M\n",
    "        θ[m] ~ Dirichlet(K, α)\n",
    "    end\n",
    "    # println(\"theta:\")\n",
    "    # println(θ)\n",
    "\n",
    "    # word distributions (for each topic)\n",
    "    ψ = Vector{Vector}(undef, K)\n",
    "    η = 0.01\n",
    "    for k = 1:K\n",
    "        ψ[k] ~ Dirichlet(D, η)\n",
    "    end\n",
    "\n",
    "    # println(\"ψ (word distributions for each topic):\")\n",
    "    # println(ψ)\n",
    "\n",
    "    # one entry in outer vec per doc\n",
    "    # the ints represent the topic assignment of each word\n",
    "    z = Vector{Vector{Int}}(undef, M)\n",
    "\n",
    "    for m = 1:M\n",
    "        doc_length = size(w[m], 1)\n",
    "        # in each doc, initialize each word's topic as 0\n",
    "        z[m] = zeros(Int, doc_length)\n",
    "        for n = 1:doc_length\n",
    "            # select topic for word n in document m\n",
    "            # draw from the topic distribution for that doc\n",
    "            z[m][n] ~ Categorical(θ[m])\n",
    "            # select symbol for word n in document m from topic z[m][n]\n",
    "            # draw from the word distribution for that topic\n",
    "            w[m][n] ~ Categorical(ψ[z[m][n]])\n",
    "        end\n",
    "    end\n",
    "    # println(\"z:\")\n",
    "    # println(z)\n",
    "    # println(\"w:\")\n",
    "    # println(w)\n",
    "    return w\n",
    "end\n"
   ]
  },
  {
   "cell_type": "code",
   "execution_count": 4,
   "id": "9520155c-86e6-459c-ba66-f2c7923d63d0",
   "metadata": {},
   "outputs": [
    {
     "data": {
      "text/plain": [
       "10"
      ]
     },
     "execution_count": 4,
     "metadata": {},
     "output_type": "execute_result"
    }
   ],
   "source": [
    "# number of docs\n",
    "M = 5\n",
    "# number of topics\n",
    "K = 10\n",
    "# number of words in corpus\n",
    "D = 10"
   ]
  },
  {
   "cell_type": "markdown",
   "id": "6f5d7ccd-5a8e-43ae-af88-bc11eb8cb719",
   "metadata": {},
   "source": [
    "TODO: Import the data. It should be an M x N matrix, where each entry is an int representing a word."
   ]
  },
  {
   "cell_type": "code",
   "execution_count": 5,
   "id": "48faf94e-0bce-454a-b101-0a0e3636cc1a",
   "metadata": {},
   "outputs": [
    {
     "data": {
      "text/plain": [
       "5-element Vector{Vector{Int64}}:\n",
       " [1, 2, 3, 4, 5, 6]\n",
       " [1, 2, 3, 4, 5, 6]\n",
       " [5, 4, 3, 2]\n",
       " [1]\n",
       " [7, 8, 9, 10]"
      ]
     },
     "execution_count": 5,
     "metadata": {},
     "output_type": "execute_result"
    }
   ],
   "source": [
    "condition_data = Vector{Vector{Int}}(undef, 5)\n",
    "condition_data[1] = [1, 2, 3, 4, 5, 6]\n",
    "condition_data[2] = [1, 2, 3, 4, 5, 6]\n",
    "condition_data[3] = [5, 4, 3, 2]\n",
    "condition_data[4] = [1]\n",
    "condition_data[5] = [7, 8, 9, 10]\n",
    "condition_data"
   ]
  },
  {
   "cell_type": "markdown",
   "id": "2fdd427e-1c12-4325-b72d-19de71282836",
   "metadata": {},
   "source": [
    "Condition the model with the provided documents."
   ]
  },
  {
   "cell_type": "code",
   "execution_count": 6,
   "id": "e4f6577f-9560-4d9c-90af-732d90dd85ba",
   "metadata": {},
   "outputs": [
    {
     "data": {
      "text/plain": [
       "DynamicPPL.Model{typeof(LDA), (:w, :K, :D), (), (), Tuple{Vector{Vector{Int64}}, Int64, Int64}, Tuple{}, DynamicPPL.DefaultContext}(LDA, (w = [[1, 2, 3, 4, 5, 6], [1, 2, 3, 4, 5, 6], [5, 4, 3, 2], [1], [7, 8, 9, 10]], K = 10, D = 10), NamedTuple(), DynamicPPL.DefaultContext())"
      ]
     },
     "execution_count": 6,
     "metadata": {},
     "output_type": "execute_result"
    }
   ],
   "source": [
    "conditioned_LDA = LDA(condition_data, K, D)"
   ]
  },
  {
   "cell_type": "markdown",
   "id": "16968df9-11a9-4369-b3ab-3adacf29470b",
   "metadata": {},
   "source": [
    "Sample the model. It currently uses a Sequential Monte Carlo (SMC) sampler, but it can also be configured to use importance sampling (IS), Metropolis Hastings (MH), or Particle Gibbs (PG). It can also combine multiple samplers so one is used for the discrete variables and a different one is used for the continuous variables, such as Hamiltonian Markov Chain (HMC) or the No U-Turn Sampler (NUTS)."
   ]
  },
  {
   "cell_type": "code",
   "execution_count": 7,
   "id": "42aab129-97b1-4223-8739-02fc31dea4e6",
   "metadata": {},
   "outputs": [
    {
     "data": {
      "text/plain": [
       "Chains MCMC chain (1000×173×1 Array{Float64, 3}):\n",
       "\n",
       "Log evidence      = -89.64882902264198\n",
       "Iterations        = 1:1:1000\n",
       "Number of chains  = 1\n",
       "Samples per chain = 1000\n",
       "Wall duration     = 19.18 seconds\n",
       "Compute duration  = 19.18 seconds\n",
       "parameters        = θ[1][1], θ[1][2], θ[1][3], θ[1][4], θ[1][5], θ[1][6], θ[1][7], θ[1][8], θ[1][9], θ[1][10], θ[2][1], θ[2][2], θ[2][3], θ[2][4], θ[2][5], θ[2][6], θ[2][7], θ[2][8], θ[2][9], θ[2][10], θ[3][1], θ[3][2], θ[3][3], θ[3][4], θ[3][5], θ[3][6], θ[3][7], θ[3][8], θ[3][9], θ[3][10], θ[4][1], θ[4][2], θ[4][3], θ[4][4], θ[4][5], θ[4][6], θ[4][7], θ[4][8], θ[4][9], θ[4][10], θ[5][1], θ[5][2], θ[5][3], θ[5][4], θ[5][5], θ[5][6], θ[5][7], θ[5][8], θ[5][9], θ[5][10], ψ[1][1], ψ[1][2], ψ[1][3], ψ[1][4], ψ[1][5], ψ[1][6], ψ[1][7], ψ[1][8], ψ[1][9], ψ[1][10], ψ[2][1], ψ[2][2], ψ[2][3], ψ[2][4], ψ[2][5], ψ[2][6], ψ[2][7], ψ[2][8], ψ[2][9], ψ[2][10], ψ[3][1], ψ[3][2], ψ[3][3], ψ[3][4], ψ[3][5], ψ[3][6], ψ[3][7], ψ[3][8], ψ[3][9], ψ[3][10], ψ[4][1], ψ[4][2], ψ[4][3], ψ[4][4], ψ[4][5], ψ[4][6], ψ[4][7], ψ[4][8], ψ[4][9], ψ[4][10], ψ[5][1], ψ[5][2], ψ[5][3], ψ[5][4], ψ[5][5], ψ[5][6], ψ[5][7], ψ[5][8], ψ[5][9], ψ[5][10], ψ[6][1], ψ[6][2], ψ[6][3], ψ[6][4], ψ[6][5], ψ[6][6], ψ[6][7], ψ[6][8], ψ[6][9], ψ[6][10], ψ[7][1], ψ[7][2], ψ[7][3], ψ[7][4], ψ[7][5], ψ[7][6], ψ[7][7], ψ[7][8], ψ[7][9], ψ[7][10], ψ[8][1], ψ[8][2], ψ[8][3], ψ[8][4], ψ[8][5], ψ[8][6], ψ[8][7], ψ[8][8], ψ[8][9], ψ[8][10], ψ[9][1], ψ[9][2], ψ[9][3], ψ[9][4], ψ[9][5], ψ[9][6], ψ[9][7], ψ[9][8], ψ[9][9], ψ[9][10], ψ[10][1], ψ[10][2], ψ[10][3], ψ[10][4], ψ[10][5], ψ[10][6], ψ[10][7], ψ[10][8], ψ[10][9], ψ[10][10], z[1][1], z[1][2], z[1][3], z[1][4], z[1][5], z[1][6], z[2][1], z[2][2], z[2][3], z[2][4], z[2][5], z[2][6], z[3][1], z[3][2], z[3][3], z[3][4], z[4][1], z[5][1], z[5][2], z[5][3], z[5][4]\n",
       "internals         = lp, weight\n",
       "\n",
       "Summary Statistics\n",
       " \u001b[1m parameters \u001b[0m \u001b[1m    mean \u001b[0m \u001b[1m     std \u001b[0m \u001b[1m naive_se \u001b[0m \u001b[1m    mcse \u001b[0m \u001b[1m     ess \u001b[0m \u001b[1m    rhat \u001b[0m \u001b[1m ess_per_sec \u001b[0m\n",
       " \u001b[90m     Symbol \u001b[0m \u001b[90m Float64 \u001b[0m \u001b[90m Float64 \u001b[0m \u001b[90m  Float64 \u001b[0m \u001b[90m Float64 \u001b[0m \u001b[90m Float64 \u001b[0m \u001b[90m Float64 \u001b[0m \u001b[90m     Float64 \u001b[0m\n",
       "\n",
       "     θ[1][1]    0.1477    0.0000     0.0000    0.0000       NaN       NaN           NaN\n",
       "     θ[1][2]    0.3573    0.0000     0.0000    0.0000    2.6720    0.9990        0.1393\n",
       "     θ[1][3]    0.0388    0.0000     0.0000    0.0000    2.6720    0.9990        0.1393\n",
       "     θ[1][4]    0.1038    0.0000     0.0000    0.0000    2.6720    0.9990        0.1393\n",
       "     θ[1][5]    0.1300    0.0000     0.0000    0.0000    2.6720    0.9990        0.1393\n",
       "     θ[1][6]    0.0553    0.0000     0.0000    0.0000    2.6720    0.9990        0.1393\n",
       "     θ[1][7]    0.0149    0.0000     0.0000    0.0000    2.6720    0.9990        0.1393\n",
       "     θ[1][8]    0.1275    0.0000     0.0000    0.0000    2.6720    0.9990        0.1393\n",
       "     θ[1][9]    0.0241    0.0000     0.0000    0.0000    2.6720    0.9990        0.1393\n",
       "    θ[1][10]    0.0006    0.0000     0.0000    0.0000    2.6720    0.9990        0.1393\n",
       "     θ[2][1]    0.0625    0.0000     0.0000    0.0000    2.6720    0.9990        0.1393\n",
       "     θ[2][2]    0.0555    0.0000     0.0000    0.0000    2.6720    0.9990        0.1393\n",
       "     θ[2][3]    0.0313    0.0000     0.0000    0.0000    2.6720    0.9990        0.1393\n",
       "     θ[2][4]    0.4641    0.0000     0.0000    0.0000    2.6720    0.9990        0.1393\n",
       "     θ[2][5]    0.0632    0.0000     0.0000    0.0000    2.6720    0.9990        0.1393\n",
       "     θ[2][6]    0.0026    0.0000     0.0000    0.0000       NaN       NaN           NaN\n",
       "     θ[2][7]    0.1124    0.0000     0.0000    0.0000    2.6720    0.9990        0.1393\n",
       "     θ[2][8]    0.0850    0.0000     0.0000    0.0000    2.6720    0.9990        0.1393\n",
       "     θ[2][9]    0.0593    0.0000     0.0000    0.0000    2.6720    0.9990        0.1393\n",
       "      ⋮           ⋮         ⋮         ⋮          ⋮         ⋮         ⋮           ⋮\n",
       "\u001b[36m                                                                         152 rows omitted\u001b[0m\n",
       "\n",
       "Quantiles\n",
       " \u001b[1m parameters \u001b[0m \u001b[1m    2.5% \u001b[0m \u001b[1m   25.0% \u001b[0m \u001b[1m   50.0% \u001b[0m \u001b[1m   75.0% \u001b[0m \u001b[1m   97.5% \u001b[0m\n",
       " \u001b[90m     Symbol \u001b[0m \u001b[90m Float64 \u001b[0m \u001b[90m Float64 \u001b[0m \u001b[90m Float64 \u001b[0m \u001b[90m Float64 \u001b[0m \u001b[90m Float64 \u001b[0m\n",
       "\n",
       "     θ[1][1]    0.1477    0.1477    0.1477    0.1477    0.1477\n",
       "     θ[1][2]    0.3573    0.3573    0.3573    0.3573    0.3573\n",
       "     θ[1][3]    0.0388    0.0388    0.0388    0.0388    0.0388\n",
       "     θ[1][4]    0.1038    0.1038    0.1038    0.1038    0.1038\n",
       "     θ[1][5]    0.1300    0.1300    0.1300    0.1300    0.1300\n",
       "     θ[1][6]    0.0553    0.0553    0.0553    0.0553    0.0553\n",
       "     θ[1][7]    0.0149    0.0149    0.0149    0.0149    0.0149\n",
       "     θ[1][8]    0.1275    0.1275    0.1275    0.1275    0.1275\n",
       "     θ[1][9]    0.0241    0.0241    0.0241    0.0241    0.0241\n",
       "    θ[1][10]    0.0006    0.0006    0.0006    0.0006    0.0006\n",
       "     θ[2][1]    0.0625    0.0625    0.0625    0.0625    0.0625\n",
       "     θ[2][2]    0.0555    0.0555    0.0555    0.0555    0.0555\n",
       "     θ[2][3]    0.0313    0.0313    0.0313    0.0313    0.0313\n",
       "     θ[2][4]    0.4641    0.4641    0.4641    0.4641    0.4641\n",
       "     θ[2][5]    0.0632    0.0632    0.0632    0.0632    0.0632\n",
       "     θ[2][6]    0.0026    0.0026    0.0026    0.0026    0.0026\n",
       "     θ[2][7]    0.1124    0.1124    0.1124    0.1124    0.1124\n",
       "     θ[2][8]    0.0850    0.0850    0.0850    0.0850    0.0850\n",
       "     θ[2][9]    0.0593    0.0593    0.0593    0.0593    0.0593\n",
       "      ⋮           ⋮         ⋮         ⋮         ⋮         ⋮\n",
       "\u001b[36m                                                152 rows omitted\u001b[0m\n"
      ]
     },
     "execution_count": 7,
     "metadata": {},
     "output_type": "execute_result"
    }
   ],
   "source": [
    "chain = sample(conditioned_LDA, SMC(), 1000)"
   ]
  },
  {
   "cell_type": "markdown",
   "id": "7c900b49-075e-4389-bd69-8a34b6364c25",
   "metadata": {},
   "source": [
    "This represents the word distribution of each topic."
   ]
  },
  {
   "cell_type": "code",
   "execution_count": 9,
   "id": "6e2fae8e-8bf9-434d-8de2-890591781bf2",
   "metadata": {},
   "outputs": [
    {
     "data": {
      "text/plain": [
       "10-element Vector{Vector{Float64}}:\n",
       " [2.2766163621319826e-21, 1.1637022995069778e-21, 5.5938147947082435e-27, 3.6097202759207283e-306, 0.9999999999901361, 2.4890725053328744e-12, 6.331805594934613e-29, 5.545081779116791e-68, 7.375378833100619e-12, 1.0661670995337312e-23]\n",
       " [3.1397842044027584e-68, 0.884325984262162, 2.2924237346948127e-47, 4.669108220322716e-42, 9.609787347263898e-17, 2.6202826621161276e-36, 0.0016067595033762657, 0.11406725623446248, 3.184615123823896e-23, 9.974170106703793e-130]\n",
       " [2.1305012190661994e-118, 1.3618358374285582e-57, 6.3991265528278325e-9, 1.605196279117381e-23, 4.990826487337537e-45, 1.197194266404521e-12, 5.712610653461027e-15, 0.9999998496410728, 1.439585964834245e-7, 3.825931521017551e-73]\n",
       " [0.94582550248699, 1.9248487956267733e-59, 2.6035733151916175e-5, 1.1204403578084257e-64, 1.5471668381121686e-55, 4.513703497785489e-91, 2.551242902028252e-55, 2.845221201983633e-8, 0.0541484330983737, 2.2927208108715486e-10]\n",
       " [5.7494443825880506e-49, 3.687004436905542e-73, 0.7507880770310388, 0.24921192296767067, 1.2919955579145625e-12, 4.3062528993827654e-145, 2.4158874916627913e-24, 1.0148579610018931e-23, 3.322134575401533e-135, 2.501524061973544e-66]\n",
       " [0.024764593362187694, 1.6284106957360504e-93, 0.9731201767384816, 1.8430441118094213e-6, 3.5917266735138295e-17, 0.0021133868552195728, 1.0204411182608324e-63, 1.4974102609311408e-51, 7.622814800866751e-40, 5.684293292149219e-20]\n",
       " [9.092411407963505e-65, 0.003229267072739437, 1.2452816674453988e-18, 1.2795505355503022e-41, 5.29212669638636e-22, 0.9967707329272603, 2.163415149421215e-61, 1.4444490329001366e-70, 5.659437003760763e-44, 4.7505595570563274e-26]\n",
       " [0.9999999999999999, 6.3588866911648495e-27, 1.3261850386053641e-25, 6.796910042318875e-69, 2.834485669404087e-43, 2.5852556572564193e-55, 7.675105985841862e-35, 3.102677521122702e-74, 7.138156471155239e-23, 2.2599925126953155e-69]\n",
       " [3.4555399896118674e-60, 2.222456021209608e-67, 1.1808411117142696e-27, 2.1255271351036517e-11, 2.851601034272139e-5, 0.9999714839684015, 6.144989061421429e-116, 1.4544509826679105e-22, 9.691007916623834e-55, 6.652253501397375e-124]\n",
       " [5.3316597736955065e-163, 0.6912795855919023, 0.30872041440256115, 1.5752344778495882e-90, 6.414804447032919e-51, 5.5367700828104955e-12, 1.650834370528019e-108, 1.9622286237801123e-38, 1.3923307470205576e-62, 3.821587835478495e-51]"
      ]
     },
     "execution_count": 9,
     "metadata": {},
     "output_type": "execute_result"
    }
   ],
   "source": [
    "topic_word_dists = Vector{Vector{Float64}}(undef, K)\n",
    "for j = 1:K\n",
    "    topic_word_dists[j] = [mean(chain, \"ψ[$j][$i]\") for i in 1:D]\n",
    "end\n",
    "topic_word_dists"
   ]
  },
  {
   "cell_type": "markdown",
   "id": "e39243f1-d27c-42f8-add5-dd0fa41c9968",
   "metadata": {},
   "source": [
    "Query the distribution of topics in each document."
   ]
  },
  {
   "cell_type": "code",
   "execution_count": 10,
   "id": "c2ca58c9-4511-4e51-85c5-456a48a93894",
   "metadata": {},
   "outputs": [
    {
     "data": {
      "text/plain": [
       "5-element Vector{Vector{Float64}}:\n",
       " [0.14769435482325843, 0.35730731003040367, 0.038796812086761286, 0.10378413747961478, 0.13001881216752248, 0.055272105655014954, 0.014937366538729346, 0.1274916960876791, 0.02407396879251538, 0.0006234363385005938]\n",
       " [0.06253960775065442, 0.05551944827250686, 0.03130570940591746, 0.4640553747039986, 0.0631813362676619, 0.0025671522660765094, 0.11236149487070009, 0.08500010246701618, 0.05927973697757995, 0.0641900370178884]\n",
       " [0.07319225708032638, 0.06342983146169087, 0.014130214059183828, 0.012134603712540944, 0.012830997561329854, 0.010347103746435445, 0.06688568371988787, 0.26507956693514373, 0.3207908524818106, 0.16117888924165044]\n",
       " [0.015944784780926976, 0.22145320287261155, 0.1008706728834599, 0.025330509564848995, 0.009420394757839769, 0.09642482806959077, 0.045097135103337155, 0.10680840339539827, 0.0039011637997435613, 0.3747489047722428]\n",
       " [0.056764954098153304, 0.16102695989495952, 0.12954303166533232, 0.04803807380745034, 0.0723326746884547, 0.04838369135685353, 0.18734784860859208, 0.180905649625416, 0.037419048872436377, 0.07823806738235202]"
      ]
     },
     "execution_count": 10,
     "metadata": {},
     "output_type": "execute_result"
    }
   ],
   "source": [
    "document_topic_distributions = Vector{Vector{Float64}}(undef, M)\n",
    "for j = 1:M\n",
    "    document_topic_distributions[j] = [mean(chain, \"θ[$j][$i]\") for i in 1:K]\n",
    "end\n",
    "document_topic_distributions"
   ]
  },
  {
   "cell_type": "markdown",
   "id": "e296567e-f6aa-4d3a-bb3b-31f6a2f3f2be",
   "metadata": {},
   "source": [
    "Get the highest probability topic for each movie."
   ]
  },
  {
   "cell_type": "code",
   "execution_count": 11,
   "id": "58f48a1a-9e99-493c-a5b2-110f79a2b52b",
   "metadata": {},
   "outputs": [
    {
     "data": {
      "text/plain": [
       "5-element Vector{Tuple{Int64, Float64}}:\n",
       " (2, 0.35730731003040367)\n",
       " (4, 0.4640553747039986)\n",
       " (9, 0.3207908524818106)\n",
       " (10, 0.3747489047722428)\n",
       " (7, 0.18734784860859208)"
      ]
     },
     "execution_count": 11,
     "metadata": {},
     "output_type": "execute_result"
    }
   ],
   "source": [
    "highest_prob_topic_per_movie = Vector{Tuple{Int, Float64}}(undef, M)\n",
    "for doc = 1:M\n",
    "    max_prob = 0.0\n",
    "    max_ind = 0\n",
    "    for topic = 1:K\n",
    "        if document_topic_distributions[doc][topic] > max_prob\n",
    "            max_prob = document_topic_distributions[doc][topic]\n",
    "            max_ind = topic\n",
    "        end\n",
    "    end\n",
    "    highest_prob_topic_per_movie[doc] = (max_ind, max_prob) \n",
    "end\n",
    "highest_prob_topic_per_movie"
   ]
  }
 ],
 "metadata": {
  "kernelspec": {
   "display_name": "Julia 1.7.3",
   "language": "julia",
   "name": "julia-1.7"
  },
  "language_info": {
   "file_extension": ".jl",
   "mimetype": "application/julia",
   "name": "julia",
   "version": "1.7.3"
  }
 },
 "nbformat": 4,
 "nbformat_minor": 5
}
