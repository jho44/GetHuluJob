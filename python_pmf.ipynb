{
  "cells": [
    {
      "cell_type": "markdown",
      "metadata": {},
      "source": [
        "Heavily influenced by [this tutorial](https://towardsdatascience.com/pmf-for-recommender-systems-cbaf20f102f0) and [GitHub](https://github.com/ocontreras309/ML_Notebooks/blob/master/PMF_Recommender_Systems.ipynb)."
      ]
    },
    {
      "cell_type": "markdown",
      "metadata": {
        "colab_type": "text",
        "id": "sE0imG0HLDgf"
      },
      "source": [
        "# PMF for Recommender Systems\n",
        "\n",
        "This is an implementation for Probabilistic Matrix Factorisation. We have made use of a subset of the IMDB dataset for training purposes."
      ]
    },
    {
      "cell_type": "code",
      "execution_count": 76,
      "metadata": {
        "colab": {},
        "colab_type": "code",
        "id": "8-65Kyq2Kv8R"
      },
      "outputs": [],
      "source": [
        "import matplotlib.pyplot as plt\n",
        "import numpy as np\n",
        "import pandas as pd\n",
        "\n",
        "from sklearn.metrics import mean_squared_error"
      ]
    },
    {
      "cell_type": "markdown",
      "metadata": {
        "colab_type": "text",
        "id": "pDzg9SMk_iW8"
      },
      "source": [
        "Let's now download our dataset. We will also unzip it for further use."
      ]
    },
    {
      "cell_type": "markdown",
      "metadata": {
        "colab_type": "text",
        "id": "PCubprYO_zIS"
      },
      "source": [
        "Let's take a look at part of the ratings file to get an idea of the columns available."
      ]
    },
    {
      "cell_type": "code",
      "execution_count": 77,
      "metadata": {
        "colab": {
          "base_uri": "https://localhost:8080/",
          "height": 195
        },
        "colab_type": "code",
        "id": "dbWjyrOEC5G1",
        "outputId": "25cce28a-4357-4c26-f687-dd49d5f4fa9b"
      },
      "outputs": [
        {
          "data": {
            "text/html": [
              "<div>\n",
              "<style scoped>\n",
              "    .dataframe tbody tr th:only-of-type {\n",
              "        vertical-align: middle;\n",
              "    }\n",
              "\n",
              "    .dataframe tbody tr th {\n",
              "        vertical-align: top;\n",
              "    }\n",
              "\n",
              "    .dataframe thead th {\n",
              "        text-align: right;\n",
              "    }\n",
              "</style>\n",
              "<table border=\"1\" class=\"dataframe\">\n",
              "  <thead>\n",
              "    <tr style=\"text-align: right;\">\n",
              "      <th></th>\n",
              "      <th>title</th>\n",
              "      <th>description</th>\n",
              "      <th>movieId</th>\n",
              "      <th>userId</th>\n",
              "      <th>rating</th>\n",
              "    </tr>\n",
              "  </thead>\n",
              "  <tbody>\n",
              "    <tr>\n",
              "      <th>0</th>\n",
              "      <td>Grown Ups</td>\n",
              "      <td>Mourning the loss of their beloved junior high...</td>\n",
              "      <td>0</td>\n",
              "      <td>0</td>\n",
              "      <td>2.0</td>\n",
              "    </tr>\n",
              "    <tr>\n",
              "      <th>1</th>\n",
              "      <td>Grown Ups</td>\n",
              "      <td>Mourning the loss of their beloved junior high...</td>\n",
              "      <td>0</td>\n",
              "      <td>1</td>\n",
              "      <td>3.5</td>\n",
              "    </tr>\n",
              "    <tr>\n",
              "      <th>2</th>\n",
              "      <td>Grown Ups</td>\n",
              "      <td>Mourning the loss of their beloved junior high...</td>\n",
              "      <td>0</td>\n",
              "      <td>2</td>\n",
              "      <td>5.0</td>\n",
              "    </tr>\n",
              "    <tr>\n",
              "      <th>3</th>\n",
              "      <td>Grown Ups</td>\n",
              "      <td>Mourning the loss of their beloved junior high...</td>\n",
              "      <td>0</td>\n",
              "      <td>3</td>\n",
              "      <td>3.0</td>\n",
              "    </tr>\n",
              "    <tr>\n",
              "      <th>4</th>\n",
              "      <td>Grown Ups</td>\n",
              "      <td>Mourning the loss of their beloved junior high...</td>\n",
              "      <td>0</td>\n",
              "      <td>4</td>\n",
              "      <td>2.5</td>\n",
              "    </tr>\n",
              "  </tbody>\n",
              "</table>\n",
              "</div>"
            ],
            "text/plain": [
              "       title                                        description  movieId  \\\n",
              "0  Grown Ups  Mourning the loss of their beloved junior high...        0   \n",
              "1  Grown Ups  Mourning the loss of their beloved junior high...        0   \n",
              "2  Grown Ups  Mourning the loss of their beloved junior high...        0   \n",
              "3  Grown Ups  Mourning the loss of their beloved junior high...        0   \n",
              "4  Grown Ups  Mourning the loss of their beloved junior high...        0   \n",
              "\n",
              "   userId  rating  \n",
              "0       0     2.0  \n",
              "1       1     3.5  \n",
              "2       2     5.0  \n",
              "3       3     3.0  \n",
              "4       4     2.5  "
            ]
          },
          "execution_count": 77,
          "metadata": {},
          "output_type": "execute_result"
        }
      ],
      "source": [
        "df = pd.read_csv('ml_netflix.csv')\n",
        "df.head()"
      ]
    },
    {
      "cell_type": "markdown",
      "metadata": {
        "colab_type": "text",
        "id": "XfASJGv4AWHY"
      },
      "source": [
        "As part of the dataset, there is also another file that contains movie information, which includes the movie id, the title, the genre, among others. We can INNER JOIN the ratings and movies datasets to gain access to all data we will need for our analysis.\n",
        "\n",
        "Deleting the popular movies. Decreases training time and not really useful to know that everyone enjoys popular movies. Want to see actually personalized recs.\n",
        "But can comment out this function call in the 4th cell."
      ]
    },
    {
      "cell_type": "markdown",
      "metadata": {
        "colab_type": "text",
        "id": "STnXs_BhAnsm"
      },
      "source": [
        "Let's now prepare our sparse review matrix. For this purpose, we first need to find out how many users and movies we have in our dataset. Additionally, we will set D to 5 dimensions."
      ]
    },
    {
      "cell_type": "code",
      "execution_count": 78,
      "metadata": {
        "colab": {},
        "colab_type": "code",
        "id": "BDoGa6i7OFy_"
      },
      "outputs": [],
      "source": [
        "def get_ratings_matrix(df, train_size=0.75):\n",
        "    user_to_row = {}\n",
        "    movie_to_column = {}\n",
        "    df_values = df.values\n",
        "    n_dims = 10\n",
        "    parameters = {}\n",
        "    \n",
        "    uniq_users = np.unique(df_values[:, 3])\n",
        "    uniq_movies = np.unique(df_values[:, 2])\n",
        "\n",
        "    for i, user_id in enumerate(uniq_users):\n",
        "        user_to_row[user_id] = i\n",
        "\n",
        "    for j, movie_id in enumerate(uniq_movies):\n",
        "        movie_to_column[movie_id] = j\n",
        "    \n",
        "    n_users = len(uniq_users)\n",
        "    n_movies = len(uniq_movies)\n",
        "    \n",
        "    R = np.zeros((n_users, n_movies))\n",
        "    \n",
        "    df_copy = df.copy()\n",
        "    train_set = df_copy.sample(frac=train_size, random_state=0)\n",
        "    test_set = df_copy.drop(train_set.index)\n",
        "    \n",
        "    for index, row in train_set.iterrows():\n",
        "        i = user_to_row[row.userId]\n",
        "        j = movie_to_column[row.movieId]\n",
        "        R[i, j] = row.rating\n",
        "\n",
        "    return R, train_set, test_set, n_dims, n_users, n_movies, user_to_row, movie_to_column"
      ]
    },
    {
      "cell_type": "markdown",
      "metadata": {
        "colab_type": "text",
        "id": "bKIg5iNe5SKn"
      },
      "source": [
        "Let's now call this function and retrieve all necessary parameters."
      ]
    },
    {
      "cell_type": "code",
      "execution_count": 79,
      "metadata": {
        "colab": {},
        "colab_type": "code",
        "id": "HBjrbs8VD6_2"
      },
      "outputs": [],
      "source": [
        "R, train_set, test_set, n_dims, n_users, n_movies, user_to_row, movie_to_column = get_ratings_matrix(df, 0.8)\n",
        "parameters = {}"
      ]
    },
    {
      "cell_type": "markdown",
      "metadata": {
        "colab_type": "text",
        "id": "2C8nnfseBTOM"
      },
      "source": [
        "We will now initialise our parameters. First the $V$ matrix can be initialised randomly using the following distribution:\n",
        "\n",
        "\\begin{equation}\n",
        "\\large\n",
        "V \\sim \\mathcal N\\left(0, \\frac {1} {\\lambda_V}\\right)\n",
        "\\end{equation}\n",
        "\n",
        "Let's remember that:\n",
        "\n",
        "\\begin{equation}\n",
        "\\large\n",
        "U \\in \\mathbb R^{D\\times N}, \\qquad V \\in \\mathbb R^{D\\times M}\n",
        "\\end{equation}\n",
        "\n",
        "Where $N$ is __n_users__, $M$ is __n_movies__ and $D$ is __n_dims__."
      ]
    },
    {
      "cell_type": "code",
      "execution_count": 80,
      "metadata": {
        "colab": {},
        "colab_type": "code",
        "id": "HaM_fnR0Nd_i"
      },
      "outputs": [],
      "source": [
        "def initialize_parameters(lambda_U, lambda_V):\n",
        "    U = np.zeros((n_dims, n_users), dtype=np.float64)\n",
        "    V = np.random.normal(0.0, 1.0 / lambda_V, (n_dims, n_movies))\n",
        "    \n",
        "    parameters['U'] = U\n",
        "    parameters['V'] = V\n",
        "    parameters['lambda_U'] = lambda_U\n",
        "    parameters['lambda_V'] = lambda_V"
      ]
    },
    {
      "cell_type": "markdown",
      "metadata": {
        "colab_type": "text",
        "id": "ntiPL_EnCLe-"
      },
      "source": [
        "Let's now implement the function that updates U and V. The elements of both matrices can be updated using the following expressions:\n",
        "\n",
        "\\begin{equation}\n",
        "\\large\n",
        "U_i=\\left[\\left(V_jV_j^T\\right)_{j\\in\\Omega_{U_i}}+\\lambda_UI\\right]^{-1}\\left(R_{ij}V_j^T\\right)_{j\\in\\Omega_{U_i}}\n",
        "\\end{equation}\n",
        "\n",
        "\\begin{equation}\n",
        "\\large\n",
        "V_j=\\left[\\left(U_iU_i^T\\right)_{i\\in\\Omega_{V_j}}+\\lambda_VI\\right]^{-1}\\left(R_{ij}U_i^T\\right)_{i\\in\\Omega_{V_j}}\n",
        "\\end{equation}"
      ]
    },
    {
      "cell_type": "code",
      "execution_count": 81,
      "metadata": {
        "colab": {},
        "colab_type": "code",
        "id": "DjKB4TzFkoJx"
      },
      "outputs": [],
      "source": [
        "def update_parameters():\n",
        "    U = parameters['U']\n",
        "    V = parameters['V']\n",
        "    lambda_U = parameters['lambda_U']\n",
        "    lambda_V = parameters['lambda_V']\n",
        "    \n",
        "    for i in range(n_users):\n",
        "        V_j = V[:, R[i, :] > 0]\n",
        "        U[:, i] = np.dot(np.linalg.inv(np.dot(V_j, V_j.T) + lambda_U * np.identity(n_dims)), np.dot(R[i, R[i, :] > 0], V_j.T))\n",
        "        \n",
        "    for j in range(n_movies):\n",
        "        U_i = U[:, R[:, j] > 0]\n",
        "        V[:, j] = np.dot(np.linalg.inv(np.dot(U_i, U_i.T) + lambda_V * np.identity(n_dims)), np.dot(R[R[:, j] > 0, j], U_i.T))\n",
        "        \n",
        "    parameters['U'] = U\n",
        "    parameters['V'] = V"
      ]
    },
    {
      "cell_type": "markdown",
      "metadata": {
        "colab_type": "text",
        "id": "hQ5in2inJApx"
      },
      "source": [
        "Now let's implement the Log-a posteriori:\n",
        "\n",
        "\\begin{equation}\n",
        "\\large\n",
        "L=-\\frac 1 2 \\left(\\sum_{i=1}^N\\sum_{j=1}^M(R_{ij}-U_i^TV_j)_{(i,j) \\in \\Omega_{R_{ij}}}^2+\\lambda_U\\sum_{i=1}^N\\|U_i\\|_{Fro}^2+\\lambda_V\\sum_{j=1}^M\\|V_j\\|_{Fro}^2\\right)\n",
        "\\end{equation}"
      ]
    },
    {
      "cell_type": "code",
      "execution_count": 82,
      "metadata": {
        "colab": {},
        "colab_type": "code",
        "id": "5PUgHUp2MeZI"
      },
      "outputs": [],
      "source": [
        "def log_a_posteriori():\n",
        "    lambda_U = parameters['lambda_U']\n",
        "    lambda_V = parameters['lambda_V']\n",
        "    U = parameters['U']\n",
        "    V = parameters['V']\n",
        "    \n",
        "    UV = np.dot(U.T, V)\n",
        "    R_UV = (R[R > 0] - UV[R > 0])\n",
        "    \n",
        "    return -0.5 * (np.sum(np.dot(R_UV, R_UV.T)) + lambda_U * np.sum(np.dot(U, U.T)) + lambda_V * np.sum(np.dot(V, V.T)))"
      ]
    },
    {
      "cell_type": "markdown",
      "metadata": {
        "colab_type": "text",
        "id": "68fmuPQrPRnU"
      },
      "source": [
        "The __predict__ function allows us to predict the rating value given the __user_id__ and the __movie_id__ parameters. The value has been scaled within the range 0-5"
      ]
    },
    {
      "cell_type": "code",
      "execution_count": 83,
      "metadata": {
        "colab": {},
        "colab_type": "code",
        "id": "neTN8ejbQ5dg"
      },
      "outputs": [],
      "source": [
        "def predict(user_id, movie_id):\n",
        "    U = parameters['U']\n",
        "    V = parameters['V']\n",
        "    r_ij = U[:, user_to_row[user_id]].T.reshape(1, -1) @ V[:, movie_to_column[movie_id]].reshape(-1, 1)\n",
        "\n",
        "    max_rating = parameters['max_rating']\n",
        "    min_rating = parameters['min_rating']\n",
        "\n",
        "    return 0 if max_rating == min_rating else ((r_ij[0][0] - min_rating) / (max_rating - min_rating)) * 5.0"
      ]
    },
    {
      "cell_type": "markdown",
      "metadata": {
        "colab_type": "text",
        "id": "7Rt2ol1j7OJ0"
      },
      "source": [
        "The __evaluate__ function will calculate the __RMSE__ of the model given a dataset (train or test)."
      ]
    },
    {
      "cell_type": "code",
      "execution_count": 84,
      "metadata": {
        "colab": {},
        "colab_type": "code",
        "id": "jnNGbogWh6OR"
      },
      "outputs": [],
      "source": [
        "def rmse_evaluate(dataset):\n",
        "    ground_truths = []\n",
        "    predictions = []\n",
        "    \n",
        "    for index, row in dataset.iterrows():\n",
        "        ground_truths.append(row.loc['rating'])\n",
        "        predictions.append(predict(row.loc['userId'], row.loc['movieId']))\n",
        "    \n",
        "    return mean_squared_error(ground_truths, predictions, squared=False)"
      ]
    },
    {
      "cell_type": "code",
      "execution_count": 85,
      "metadata": {},
      "outputs": [],
      "source": [
        "from utils.utils import get_users_faves, get_helper_vals"
      ]
    },
    {
      "cell_type": "code",
      "execution_count": 86,
      "metadata": {},
      "outputs": [],
      "source": [
        "def get_recs(dataset):\n",
        "    all_predictions = {}\n",
        "    movie_to_column_items = np.array(list(movie_to_column.items()))\n",
        "\n",
        "    user_5_df, user_4_df = get_users_faves(dataset)\n",
        "\n",
        "    for user in dataset[\"userId\"].unique():\n",
        "        num_actual_likes = len(user_5_df[user_5_df['userId']==user])\n",
        "        # if no 5 ratings, find number of 4 ratings\n",
        "        if num_actual_likes == 0:\n",
        "            num_actual_likes = len(user_4_df[user_4_df['userId']==user])\n",
        "        predictions = np.zeros((n_movies, 1))\n",
        "\n",
        "        for i, movie in enumerate(movie_to_column_items):\n",
        "            predictions[i] = predict(user, movie[0])\n",
        "            \n",
        "        indices = np.argsort(-predictions, axis=0)\n",
        "\n",
        "        predicted_likes = []\n",
        "        for j in range(num_actual_likes):\n",
        "            movie_id = int(movie_to_column_items[np.where(movie_to_column_items[:, 1] == indices[j])][0][0])\n",
        "            predicted_likes.append(movie_id)\n",
        "        all_predictions[user] = predicted_likes\n",
        "\n",
        "    return all_predictions"
      ]
    },
    {
      "cell_type": "code",
      "execution_count": 87,
      "metadata": {},
      "outputs": [],
      "source": [
        "def mapk(recommendations, user_5_df, user_4_df): \n",
        "    '''\n",
        "    slightly different from the one in utils.utils because this workflow has train-test datasets\n",
        "    and not every user is in both datasets\n",
        "    '''\n",
        "    # calculate MAP @ k\n",
        "    # http://sdsawtelle.github.io/blog/output/mean-average-precision-MAP-for-recommender-systems.html\n",
        "\n",
        "    # for each user\n",
        "    map_k = 0\n",
        "    for user in recommendations:\n",
        "        l = len(recommendations[user])\n",
        "        user_actual = user_5_df[user_5_df['userId']==user]['movieId']\n",
        "        if user_actual.empty:\n",
        "            user_actual = user_4_df[user_4_df['userId']==user]['movieId']\n",
        "        if user_actual.empty:\n",
        "            continue\n",
        "        sum = 0\n",
        "        if l == 0:\n",
        "            continue\n",
        "        for k in range(1, l):\n",
        "            # top k recommendations and top k actually rated movies for user\n",
        "            user_rec = recommendations[user][1:k+1]\n",
        "            user_actual_k = set(user_actual[:k])\n",
        "            # only add if the kth item was relevant\n",
        "            if user_rec[-1] in user_actual_k:\n",
        "                # find intersections\n",
        "                user_rec = set(user_rec)\n",
        "                intersection = list(user_rec & user_actual_k)\n",
        "                # add precision to sum\n",
        "                sum += len(intersection) / float(k)\n",
        "        # divide by min(m, N)\n",
        "        sum /= float(l)\n",
        "        map_k += sum\n",
        "\n",
        "    # print final map@k value\n",
        "    map_k /= float(len(recommendations))\n",
        "    print(f'MAP@K: {map_k}')\n",
        "    return map_k"
      ]
    },
    {
      "cell_type": "code",
      "execution_count": 88,
      "metadata": {},
      "outputs": [],
      "source": [
        "from sklearn.metrics.pairwise import cosine_similarity\n",
        "def calc_personalization(recommendations): # nikki's\n",
        "    # calculate personalization matrix\n",
        "    # https://towardsdatascience.com/evaluation-metrics-for-recommender-systems-df56c6611093\n",
        "    # create num_user x num_movies\n",
        "    personalization = np.zeros((n_users, n_movies))\n",
        "\n",
        "    for row in recommendations:\n",
        "        user = row\n",
        "        for movie_ind in recommendations[row]:\n",
        "            personalization[user][movie_ind] = 1\n",
        "\n",
        "    cosine_sim = cosine_similarity(personalization, personalization)\n",
        "\n",
        "    # compute average of upper triangle to get cosine similarity\n",
        "    sum = 0\n",
        "    denom = (n_users-1)*(n_users)/2\n",
        "    for i in range(n_users-1):\n",
        "        for j in range(i+1, n_users):\n",
        "            sum += cosine_sim[i][j]\n",
        "\n",
        "    similarity = sum/denom\n",
        "    dissimilarity = 1 - similarity\n",
        "    print(f'Personalization: {dissimilarity}')\n",
        "    return dissimilarity"
      ]
    },
    {
      "cell_type": "code",
      "execution_count": 89,
      "metadata": {},
      "outputs": [],
      "source": [
        "def eval(recs, user_5_df, user_4_df, metric_type):\n",
        "  if metric_type == 'MAPK':\n",
        "    return mapk(recs, user_5_df, user_4_df)\n",
        "  elif metric_type == 'PER':\n",
        "    return calc_personalization(recs)"
      ]
    },
    {
      "cell_type": "markdown",
      "metadata": {
        "colab_type": "text",
        "id": "6R1ePeME7qSW"
      },
      "source": [
        "For the purposes of scaling, we need the maximum and minimum rating values."
      ]
    },
    {
      "cell_type": "code",
      "execution_count": 90,
      "metadata": {
        "colab": {},
        "colab_type": "code",
        "id": "YNIlELvx0M0W"
      },
      "outputs": [],
      "source": [
        "def update_max_min_ratings():\n",
        "    U = parameters['U']\n",
        "    V = parameters['V']\n",
        "\n",
        "    R = U.T @ V\n",
        "    min_rating = np.min(R)\n",
        "    max_rating = np.max(R)\n",
        "\n",
        "    parameters['min_rating'] = min_rating\n",
        "    parameters['max_rating'] = max_rating"
      ]
    },
    {
      "cell_type": "markdown",
      "metadata": {
        "colab_type": "text",
        "id": "AZGq6J9pDl5O"
      },
      "source": [
        "The __train__ function implements the code necessary for training the model as well as recording the __RMSE__ values on the training and testing sets."
      ]
    },
    {
      "cell_type": "code",
      "execution_count": 111,
      "metadata": {
        "colab": {},
        "colab_type": "code",
        "id": "VYwTD_nBNO5F"
      },
      "outputs": [],
      "source": [
        "train_num_movies, train_num_users = get_helper_vals(train_set)\n",
        "test_num_movies, test_num_users = get_helper_vals(test_set) \n",
        "\n",
        "train_user_5_df, train_user_4_df = get_users_faves(train_set)\n",
        "test_user_5_df, test_user_4_df = get_users_faves(test_set)\n",
        "\n",
        "step = 10\n",
        "def train(n_epochs):\n",
        "    initialize_parameters(0.3, 0.3)\n",
        "    log_aps = []\n",
        "    rmse_train, rmse_test = [], []\n",
        "\n",
        "    update_max_min_ratings()\n",
        "\n",
        "    rmse_train.append(rmse_evaluate(train_set))\n",
        "    rmse_test.append(rmse_evaluate(test_set))\n",
        "    \n",
        "    for k in range(n_epochs):\n",
        "        update_parameters()\n",
        "        log_ap = log_a_posteriori()\n",
        "        log_aps.append(log_ap)\n",
        "\n",
        "        if (k + 1) % step == 0:\n",
        "            update_max_min_ratings()\n",
        "\n",
        "            rmse_train.append(rmse_evaluate(train_set))\n",
        "            rmse_test.append(rmse_evaluate(test_set))\n",
        "            \n",
        "            print('Log p a-posteriori at iteration', k + 1, ':', log_ap)\n",
        "\n",
        "    update_max_min_ratings()\n",
        "\n",
        "    return log_aps, rmse_train, rmse_test"
      ]
    },
    {
      "cell_type": "markdown",
      "metadata": {
        "colab_type": "text",
        "id": "SJbozBbQPk9A"
      },
      "source": [
        "Let's train our model!"
      ]
    },
    {
      "cell_type": "code",
      "execution_count": 92,
      "metadata": {
        "colab": {
          "base_uri": "https://localhost:8080/",
          "height": 281
        },
        "colab_type": "code",
        "id": "XeH5sRNp7eHA",
        "outputId": "8e0cb783-9b32-41aa-9a4a-908aac9d613d"
      },
      "outputs": [
        {
          "name": "stdout",
          "output_type": "stream",
          "text": [
            "Log p a-posteriori at iteration 10 : -1946.388845754921\n",
            "Log p a-posteriori at iteration 20 : -1701.864917451258\n",
            "Log p a-posteriori at iteration 30 : -1622.621569990592\n",
            "Log p a-posteriori at iteration 40 : -1556.5681103359589\n",
            "Log p a-posteriori at iteration 50 : -1519.2535615798301\n",
            "Log p a-posteriori at iteration 60 : -1492.2599394293052\n",
            "Log p a-posteriori at iteration 70 : -1469.95071502353\n",
            "Log p a-posteriori at iteration 80 : -1447.9266964292244\n",
            "Log p a-posteriori at iteration 90 : -1433.0276827467844\n",
            "Log p a-posteriori at iteration 100 : -1428.0793457657883\n"
          ]
        }
      ],
      "source": [
        "log_ps, rmse_train, rmse_test = train(100)"
      ]
    },
    {
      "cell_type": "markdown",
      "metadata": {
        "colab_type": "text",
        "id": "TKzp4hukECUE"
      },
      "source": [
        "Now let's take a look at some graphs"
      ]
    },
    {
      "cell_type": "code",
      "execution_count": 112,
      "metadata": {
        "colab": {
          "base_uri": "https://localhost:8080/"
        },
        "colab_type": "code",
        "id": "yRr_wko07e37",
        "outputId": "46313b0b-5d4a-4448-8638-12ef81baf4c2"
      },
      "outputs": [
        {
          "data": {
            "image/png": "[encoded data removed]",
            "text/plain": [
              "<Figure size 1440x504 with 2 Axes>"
            ]
          },
          "metadata": {
            "needs_background": "light"
          },
          "output_type": "display_data"
        }
      ],
      "source": [
        "_, axes = plt.subplots(1, 2, figsize=(20, 7))\n",
        "axes[0].plot(np.arange(len(log_ps)), log_ps, label='MAP')\n",
        "axes[0].set_title('Loss vs epochs')\n",
        "axes[0].legend()\n",
        "\n",
        "\n",
        "axes[1].plot(np.arange(0, len(rmse_train) * step, step), rmse_train, label='RMSE train')\n",
        "axes[1].plot(np.arange(0, len(rmse_test) * step, step), rmse_test, label='RMSE test')\n",
        "axes[1].set_title('RMSE vs epochs')\n",
        "axes[1].legend()\n",
        "\n",
        "plt.show()"
      ]
    },
    {
      "cell_type": "markdown",
      "metadata": {
        "colab_type": "text",
        "id": "-nhrZDHvPx1-"
      },
      "source": [
        "Let's now evaluate our model on both the training and testing sets."
      ]
    },
    {
      "cell_type": "code",
      "execution_count": 113,
      "metadata": {},
      "outputs": [
        {
          "name": "stdout",
          "output_type": "stream",
          "text": [
            "RMSE of training set: 1.0532423295185918\n",
            "RMSE of testing set: 1.2818219736096537\n"
          ]
        }
      ],
      "source": [
        "print('RMSE of training set:', rmse_evaluate(train_set))\n",
        "print('RMSE of testing set:', rmse_evaluate(test_set))"
      ]
    },
    {
      "cell_type": "markdown",
      "metadata": {},
      "source": [
        "# Train on Whole Dataset\n",
        "Now we can get metrics like MAP@K and personalization without the weirdness of test leakage :)"
      ]
    },
    {
      "cell_type": "code",
      "execution_count": 114,
      "metadata": {},
      "outputs": [],
      "source": [
        "R, train_set, test_set, n_dims, n_users, n_movies, user_to_row, movie_to_column = get_ratings_matrix(df, 1)\n",
        "parameters = {}"
      ]
    },
    {
      "cell_type": "code",
      "execution_count": 115,
      "metadata": {},
      "outputs": [
        {
          "name": "stdout",
          "output_type": "stream",
          "text": [
            "MAP@K: 7.129767531821033e-05\n",
            "Personalization: 0.4119304082750871\n",
            "MAP@K: 0.012592958708465154\n",
            "Personalization: 0.9540662175276237\n",
            "Log p a-posteriori at iteration 10 : -2983.738946213023\n",
            "MAP@K: 0.007992086005369093\n",
            "Personalization: 0.9584849769269501\n",
            "Log p a-posteriori at iteration 20 : -2989.663064508579\n",
            "MAP@K: 0.007696341622302801\n",
            "Personalization: 0.953807791888576\n",
            "Log p a-posteriori at iteration 30 : -3230.8603045991276\n",
            "MAP@K: 0.008460525718020301\n",
            "Personalization: 0.9485702802348492\n",
            "Log p a-posteriori at iteration 40 : -3434.7582718567023\n",
            "MAP@K: 0.011892562964113276\n",
            "Personalization: 0.9459193485279414\n",
            "Log p a-posteriori at iteration 50 : -3597.8300706701903\n",
            "MAP@K: 0.009373032420430779\n",
            "Personalization: 0.9482365134447794\n",
            "Log p a-posteriori at iteration 60 : -3719.4771688364626\n",
            "MAP@K: 0.00855796540394047\n",
            "Personalization: 0.9501461883520762\n",
            "Log p a-posteriori at iteration 70 : -3812.678728714178\n",
            "MAP@K: 0.006405701634490639\n",
            "Personalization: 0.9525689647480817\n",
            "Log p a-posteriori at iteration 80 : -3886.9056681103466\n",
            "MAP@K: 0.006081136319756255\n",
            "Personalization: 0.952497091492106\n",
            "Log p a-posteriori at iteration 90 : -3943.884078928513\n",
            "MAP@K: 0.007814355570806692\n",
            "Personalization: 0.9519689019631502\n",
            "Log p a-posteriori at iteration 100 : -3992.3673613175465\n"
          ]
        }
      ],
      "source": [
        "train_num_movies, train_num_users = get_helper_vals(train_set)\n",
        "train_user_5_df, train_user_4_df = get_users_faves(train_set)\n",
        "\n",
        "initialize_parameters(0.3, 0.3)\n",
        "log_aps = []\n",
        "rmse, map_at_k, per = [], [], []\n",
        "\n",
        "update_max_min_ratings()\n",
        "\n",
        "rmse.append(rmse_evaluate(train_set))\n",
        "recs = get_recs(train_set)\n",
        "map_at_k.append(eval(recs, train_user_5_df, train_user_4_df, 'MAPK'))\n",
        "per.append(eval(recs, train_user_5_df, train_user_4_df, 'PER'))\n",
        "\n",
        "for k in range(100):\n",
        "    update_parameters()\n",
        "    log_ap = log_a_posteriori()\n",
        "    log_aps.append(log_ap)\n",
        "\n",
        "    if (k + 1) % step == 0:\n",
        "        update_max_min_ratings()\n",
        "\n",
        "        rmse.append(rmse_evaluate(train_set))\n",
        "\n",
        "        recs = get_recs(train_set)\n",
        "        map_at_k.append(eval(recs, train_user_5_df, train_user_4_df, 'MAPK'))\n",
        "        per.append(eval(recs, train_user_5_df, train_user_4_df, 'PER'))\n",
        "\n",
        "        print('Log p a-posteriori at iteration', k + 1, ':', log_ap)\n",
        "\n",
        "update_max_min_ratings()"
      ]
    },
    {
      "cell_type": "code",
      "execution_count": 121,
      "metadata": {},
      "outputs": [
        {
          "data": {
            "image/png": "[encoded data removed]",
            "text/plain": [
              "<Figure size 1440x720 with 4 Axes>"
            ]
          },
          "metadata": {
            "needs_background": "light"
          },
          "output_type": "display_data"
        }
      ],
      "source": [
        "_, axes = plt.subplots(2, 2, figsize=(20, 10))\n",
        "\n",
        "axes[0, 0].plot(np.arange(len(log_ps)), log_ps, label='MAP')\n",
        "axes[0, 0].set_title('Loss vs epochs')\n",
        "axes[0, 0].legend()\n",
        "\n",
        "axes[0, 1].plot(np.arange(0, len(rmse) * step, step), rmse, label='RMSE')\n",
        "axes[0, 1].set_title('RMSE vs epochs')\n",
        "axes[0, 1].legend()\n",
        "\n",
        "axes[1, 0].plot(np.arange(0, len(map_at_k) * step, step), map_at_k, label='MAP@K')\n",
        "axes[1, 0].set_title('MAP@K vs epochs')\n",
        "axes[1, 0].legend()\n",
        "\n",
        "axes[1, 1].plot(np.arange(0, len(per) * step, step), per, label='PER')\n",
        "axes[1, 1].set_title('Personalization vs epochs')\n",
        "axes[1, 1].legend()\n",
        "\n",
        "plt.show()"
      ]
    },
    {
      "cell_type": "code",
      "execution_count": 117,
      "metadata": {},
      "outputs": [
        {
          "name": "stdout",
          "output_type": "stream",
          "text": [
            "RMSE of training set: 1.0287906020476085\n",
            "MAP@K: 0.007814355570806692\n",
            "Personalization: 0.9519689019631502\n"
          ]
        },
        {
          "data": {
            "text/plain": [
              "0.9519689019631502"
            ]
          },
          "execution_count": 117,
          "metadata": {},
          "output_type": "execute_result"
        }
      ],
      "source": [
        "print('RMSE of training set:', rmse_evaluate(train_set))\n",
        "\n",
        "recs = get_recs(train_set)\n",
        "eval(recs, train_user_5_df, train_user_4_df, 'MAPK')\n",
        "eval(recs, train_user_5_df, train_user_4_df, 'PER')"
      ]
    },
    {
      "cell_type": "code",
      "execution_count": null,
      "metadata": {},
      "outputs": [],
      "source": []
    }
  ],
  "metadata": {
    "colab": {
      "collapsed_sections": [],
      "name": "PMF_Recommender_Systems.ipynb",
      "provenance": [],
      "toc_visible": true
    },
    "interpreter": {
      "hash": "cdb5447ba972f99df2d49a1363472ed5fc753ff807de34ea63b043c226c6919e"
    },
    "kernelspec": {
      "display_name": "Python 3.8.5 ('267env': venv)",
      "language": "python",
      "name": "python3"
    },
    "language_info": {
      "codemirror_mode": {
        "name": "ipython",
        "version": 3
      },
      "file_extension": ".py",
      "mimetype": "text/x-python",
      "name": "python",
      "nbconvert_exporter": "python",
      "pygments_lexer": "ipython3",
      "version": "3.8.5"
    }
  },
  "nbformat": 4,
  "nbformat_minor": 0
}
