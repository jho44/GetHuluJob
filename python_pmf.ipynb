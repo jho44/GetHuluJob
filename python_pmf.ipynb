{
  "cells": [
    {
      "cell_type": "markdown",
      "metadata": {
        "colab_type": "text",
        "id": "sE0imG0HLDgf"
      },
      "source": [
        "# PMF for Recommender Systems\n",
        "\n",
        "This is an implementation for Probabilistic Matrix Factorisation. We have made use of a subset of the IMDB dataset for training purposes."
      ]
    },
    {
      "cell_type": "code",
      "execution_count": 1,
      "metadata": {
        "colab": {},
        "colab_type": "code",
        "id": "8-65Kyq2Kv8R"
      },
      "outputs": [],
      "source": [
        "import matplotlib.pyplot as plt\n",
        "import numpy as np\n",
        "import pandas as pd\n",
        "\n",
        "from sklearn.metrics import mean_squared_error\n",
        "\n",
        "import ml_metrics\n",
        "import recmetrics\n",
        "from random import sample"
      ]
    },
    {
      "cell_type": "markdown",
      "metadata": {
        "colab_type": "text",
        "id": "pDzg9SMk_iW8"
      },
      "source": [
        "Let's now download our dataset. We will also unzip it for further use."
      ]
    },
    {
      "cell_type": "code",
      "execution_count": 2,
      "metadata": {
        "colab": {
          "base_uri": "https://localhost:8080/",
          "height": 334
        },
        "colab_type": "code",
        "id": "iUB7uFWdQzF7",
        "outputId": "32574479-ff4f-4e26-9fc0-305b20e19fd5"
      },
      "outputs": [
        {
          "name": "stdout",
          "output_type": "stream",
          "text": [
            "--2022-05-14 15:30:56--  http://files.grouplens.org/datasets/movielens/ml-latest-small.zip\n",
            "Resolving files.grouplens.org (files.grouplens.org)... 128.101.65.152\n",
            "Connecting to files.grouplens.org (files.grouplens.org)|128.101.65.152|:80... connected.\n",
            "HTTP request sent, awaiting response... 200 OK\n",
            "Length: 978202 (955K) [application/zip]\n",
            "Saving to: ‘ml-latest-small.zip’\n",
            "\n",
            "ml-latest-small.zip 100%[===================>] 955.28K   325KB/s    in 2.9s    \n",
            "\n",
            "2022-05-14 15:30:59 (325 KB/s) - ‘ml-latest-small.zip’ saved [978202/978202]\n",
            "\n",
            "Archive:  ml-latest-small.zip\n",
            "   creating: ml-latest-small/\n",
            "  inflating: ml-latest-small/links.csv  \n",
            "  inflating: ml-latest-small/tags.csv  \n",
            "  inflating: ml-latest-small/ratings.csv  \n",
            "  inflating: ml-latest-small/README.txt  \n",
            "  inflating: ml-latest-small/movies.csv  \n"
          ]
        }
      ],
      "source": [
        "!wget http://files.grouplens.org/datasets/movielens/ml-latest-small.zip\n",
        "!unzip ml-latest-small.zip"
      ]
    },
    {
      "cell_type": "markdown",
      "metadata": {
        "colab_type": "text",
        "id": "PCubprYO_zIS"
      },
      "source": [
        "Let's take a look at part of the ratings file to get an idea of the columns available."
      ]
    },
    {
      "cell_type": "code",
      "execution_count": 2,
      "metadata": {
        "colab": {
          "base_uri": "https://localhost:8080/",
          "height": 195
        },
        "colab_type": "code",
        "id": "dbWjyrOEC5G1",
        "outputId": "25cce28a-4357-4c26-f687-dd49d5f4fa9b"
      },
      "outputs": [
        {
          "data": {
            "text/html": [
              "<div>\n",
              "<style scoped>\n",
              "    .dataframe tbody tr th:only-of-type {\n",
              "        vertical-align: middle;\n",
              "    }\n",
              "\n",
              "    .dataframe tbody tr th {\n",
              "        vertical-align: top;\n",
              "    }\n",
              "\n",
              "    .dataframe thead th {\n",
              "        text-align: right;\n",
              "    }\n",
              "</style>\n",
              "<table border=\"1\" class=\"dataframe\">\n",
              "  <thead>\n",
              "    <tr style=\"text-align: right;\">\n",
              "      <th></th>\n",
              "      <th>userId</th>\n",
              "      <th>movieId</th>\n",
              "      <th>rating</th>\n",
              "      <th>timestamp</th>\n",
              "    </tr>\n",
              "  </thead>\n",
              "  <tbody>\n",
              "    <tr>\n",
              "      <th>0</th>\n",
              "      <td>1</td>\n",
              "      <td>1</td>\n",
              "      <td>4.0</td>\n",
              "      <td>964982703</td>\n",
              "    </tr>\n",
              "    <tr>\n",
              "      <th>1</th>\n",
              "      <td>1</td>\n",
              "      <td>3</td>\n",
              "      <td>4.0</td>\n",
              "      <td>964981247</td>\n",
              "    </tr>\n",
              "    <tr>\n",
              "      <th>2</th>\n",
              "      <td>1</td>\n",
              "      <td>6</td>\n",
              "      <td>4.0</td>\n",
              "      <td>964982224</td>\n",
              "    </tr>\n",
              "    <tr>\n",
              "      <th>3</th>\n",
              "      <td>1</td>\n",
              "      <td>47</td>\n",
              "      <td>5.0</td>\n",
              "      <td>964983815</td>\n",
              "    </tr>\n",
              "    <tr>\n",
              "      <th>4</th>\n",
              "      <td>1</td>\n",
              "      <td>50</td>\n",
              "      <td>5.0</td>\n",
              "      <td>964982931</td>\n",
              "    </tr>\n",
              "  </tbody>\n",
              "</table>\n",
              "</div>"
            ],
            "text/plain": [
              "   userId  movieId  rating  timestamp\n",
              "0       1        1     4.0  964982703\n",
              "1       1        3     4.0  964981247\n",
              "2       1        6     4.0  964982224\n",
              "3       1       47     5.0  964983815\n",
              "4       1       50     5.0  964982931"
            ]
          },
          "execution_count": 2,
          "metadata": {},
          "output_type": "execute_result"
        }
      ],
      "source": [
        "df = pd.read_csv('ml-latest-small/ratings.csv')\n",
        "df.head()"
      ]
    },
    {
      "cell_type": "markdown",
      "metadata": {
        "colab_type": "text",
        "id": "XfASJGv4AWHY"
      },
      "source": [
        "As part of the dataset, there is also another file that contains movie information, which includes the movie id, the title, the genre, among others. We can INNER JOIN the ratings and movies datasets to gain access to all data we will need for our analysis.\n",
        "\n",
        "Deleting the popular movies. Decreases training time and not really useful to know that everyone enjoys popular movies. Want to see actually personalized recs.\n",
        "But can comment out this function call in the 4th cell."
      ]
    },
    {
      "cell_type": "code",
      "execution_count": 16,
      "metadata": {},
      "outputs": [],
      "source": [
        "def delete_popular_movies():\n",
        "  global df\n",
        "  global df_movies\n",
        "  num_rated_movies = df['movieId'].value_counts()\n",
        "  num_ratings_of_popular_movies = num_rated_movies.values[0] - 10 * num_rated_movies.std()\n",
        "  popular_movies = num_rated_movies[num_rated_movies > num_ratings_of_popular_movies].keys()\n",
        "  df = df[~df['movieId'].isin(popular_movies)]\n",
        "  df_movies = df_movies[~df_movies['movieId'].isin(popular_movies)]"
      ]
    },
    {
      "cell_type": "code",
      "execution_count": 4,
      "metadata": {
        "colab": {
          "base_uri": "https://localhost:8080/",
          "height": 195
        },
        "colab_type": "code",
        "id": "RQqW0Mzh_-Vd",
        "outputId": "9a0cb934-2540-47db-8da0-5f16f4e927c5"
      },
      "outputs": [
        {
          "data": {
            "text/html": [
              "<div>\n",
              "<style scoped>\n",
              "    .dataframe tbody tr th:only-of-type {\n",
              "        vertical-align: middle;\n",
              "    }\n",
              "\n",
              "    .dataframe tbody tr th {\n",
              "        vertical-align: top;\n",
              "    }\n",
              "\n",
              "    .dataframe thead th {\n",
              "        text-align: right;\n",
              "    }\n",
              "</style>\n",
              "<table border=\"1\" class=\"dataframe\">\n",
              "  <thead>\n",
              "    <tr style=\"text-align: right;\">\n",
              "      <th></th>\n",
              "      <th>movieId</th>\n",
              "      <th>title</th>\n",
              "      <th>genres</th>\n",
              "      <th>userId</th>\n",
              "      <th>rating</th>\n",
              "      <th>timestamp</th>\n",
              "    </tr>\n",
              "  </thead>\n",
              "  <tbody>\n",
              "    <tr>\n",
              "      <th>0</th>\n",
              "      <td>3</td>\n",
              "      <td>Grumpier Old Men (1995)</td>\n",
              "      <td>Comedy|Romance</td>\n",
              "      <td>1</td>\n",
              "      <td>4.0</td>\n",
              "      <td>964981247</td>\n",
              "    </tr>\n",
              "    <tr>\n",
              "      <th>1</th>\n",
              "      <td>3</td>\n",
              "      <td>Grumpier Old Men (1995)</td>\n",
              "      <td>Comedy|Romance</td>\n",
              "      <td>6</td>\n",
              "      <td>5.0</td>\n",
              "      <td>845554296</td>\n",
              "    </tr>\n",
              "    <tr>\n",
              "      <th>2</th>\n",
              "      <td>3</td>\n",
              "      <td>Grumpier Old Men (1995)</td>\n",
              "      <td>Comedy|Romance</td>\n",
              "      <td>19</td>\n",
              "      <td>3.0</td>\n",
              "      <td>965707636</td>\n",
              "    </tr>\n",
              "    <tr>\n",
              "      <th>3</th>\n",
              "      <td>3</td>\n",
              "      <td>Grumpier Old Men (1995)</td>\n",
              "      <td>Comedy|Romance</td>\n",
              "      <td>32</td>\n",
              "      <td>3.0</td>\n",
              "      <td>856736172</td>\n",
              "    </tr>\n",
              "    <tr>\n",
              "      <th>4</th>\n",
              "      <td>3</td>\n",
              "      <td>Grumpier Old Men (1995)</td>\n",
              "      <td>Comedy|Romance</td>\n",
              "      <td>42</td>\n",
              "      <td>4.0</td>\n",
              "      <td>996221045</td>\n",
              "    </tr>\n",
              "  </tbody>\n",
              "</table>\n",
              "</div>"
            ],
            "text/plain": [
              "   movieId                    title          genres  userId  rating  timestamp\n",
              "0        3  Grumpier Old Men (1995)  Comedy|Romance       1     4.0  964981247\n",
              "1        3  Grumpier Old Men (1995)  Comedy|Romance       6     5.0  845554296\n",
              "2        3  Grumpier Old Men (1995)  Comedy|Romance      19     3.0  965707636\n",
              "3        3  Grumpier Old Men (1995)  Comedy|Romance      32     3.0  856736172\n",
              "4        3  Grumpier Old Men (1995)  Comedy|Romance      42     4.0  996221045"
            ]
          },
          "execution_count": 4,
          "metadata": {},
          "output_type": "execute_result"
        }
      ],
      "source": [
        "df_movies = pd.read_csv('ml-latest-small/movies.csv')\n",
        "\n",
        "delete_popular_movies()\n",
        "\n",
        "df_join = pd.merge(df_movies, df, how='inner', on='movieId')\n",
        "df_join.head()"
      ]
    },
    {
      "cell_type": "markdown",
      "metadata": {
        "colab_type": "text",
        "id": "STnXs_BhAnsm"
      },
      "source": [
        "Let's now prepare our sparse review matrix. For this purpose, we first need to find out how many users and movies we have in our dataset. Additionally, we will set D to 5 dimensions."
      ]
    },
    {
      "cell_type": "code",
      "execution_count": 5,
      "metadata": {
        "colab": {},
        "colab_type": "code",
        "id": "BDoGa6i7OFy_"
      },
      "outputs": [],
      "source": [
        "def get_ratings_matrix(df, train_size=0.75):\n",
        "    user_to_row = {}\n",
        "    movie_to_column = {}\n",
        "    df_values = df.values\n",
        "    n_dims = 10\n",
        "    parameters = {}\n",
        "    \n",
        "    uniq_users = np.unique(df_values[:, 3])\n",
        "    uniq_movies = np.unique(df_values[:, 0])\n",
        "\n",
        "    for i, user_id in enumerate(uniq_users):\n",
        "        user_to_row[user_id] = i\n",
        "\n",
        "    for j, movie_id in enumerate(uniq_movies):\n",
        "        movie_to_column[movie_id] = j\n",
        "    \n",
        "    n_users = len(uniq_users)\n",
        "    n_movies = len(uniq_movies)\n",
        "    \n",
        "    R = np.zeros((n_users, n_movies))\n",
        "    \n",
        "    df_copy = df.copy()\n",
        "    train_set = df_copy.sample(frac=train_size, random_state=0)\n",
        "    test_set = df_copy.drop(train_set.index)\n",
        "    \n",
        "    for index, row in train_set.iterrows():\n",
        "        i = user_to_row[row.userId]\n",
        "        j = movie_to_column[row.movieId]\n",
        "        R[i, j] = row.rating\n",
        "\n",
        "    return R, train_set, test_set, n_dims, n_users, n_movies, user_to_row, movie_to_column"
      ]
    },
    {
      "cell_type": "markdown",
      "metadata": {
        "colab_type": "text",
        "id": "bKIg5iNe5SKn"
      },
      "source": [
        "Let's now call this function and retrieve all necessary parameters."
      ]
    },
    {
      "cell_type": "code",
      "execution_count": 6,
      "metadata": {
        "colab": {},
        "colab_type": "code",
        "id": "HBjrbs8VD6_2"
      },
      "outputs": [],
      "source": [
        "R, train_set, test_set, n_dims, n_users, n_movies, user_to_row, movie_to_column = get_ratings_matrix(df_join, 0.8)\n",
        "parameters = {}"
      ]
    },
    {
      "cell_type": "markdown",
      "metadata": {
        "colab_type": "text",
        "id": "2C8nnfseBTOM"
      },
      "source": [
        "We will now initialise our parameters. First the $V$ matrix can be initialised randomly using the following distribution:\n",
        "\n",
        "\\begin{equation}\n",
        "\\large\n",
        "V \\sim \\mathcal N\\left(0, \\frac {1} {\\lambda_V}\\right)\n",
        "\\end{equation}\n",
        "\n",
        "Let's remember that:\n",
        "\n",
        "\\begin{equation}\n",
        "\\large\n",
        "U \\in \\mathbb R^{D\\times N}, \\qquad V \\in \\mathbb R^{D\\times M}\n",
        "\\end{equation}\n",
        "\n",
        "Where $N$ is __n_users__, $M$ is __n_movies__ and $D$ is __n_dims__."
      ]
    },
    {
      "cell_type": "code",
      "execution_count": 7,
      "metadata": {
        "colab": {},
        "colab_type": "code",
        "id": "HaM_fnR0Nd_i"
      },
      "outputs": [],
      "source": [
        "def initialize_parameters(lambda_U, lambda_V):\n",
        "    U = np.zeros((n_dims, n_users), dtype=np.float64)\n",
        "    V = np.random.normal(0.0, 1.0 / lambda_V, (n_dims, n_movies))\n",
        "    \n",
        "    parameters['U'] = U\n",
        "    parameters['V'] = V\n",
        "    parameters['lambda_U'] = lambda_U\n",
        "    parameters['lambda_V'] = lambda_V"
      ]
    },
    {
      "cell_type": "markdown",
      "metadata": {
        "colab_type": "text",
        "id": "ntiPL_EnCLe-"
      },
      "source": [
        "Let's now implement the function that updates U and V. The elements of both matrices can be updated using the following expressions:\n",
        "\n",
        "\\begin{equation}\n",
        "\\large\n",
        "U_i=\\left[\\left(V_jV_j^T\\right)_{j\\in\\Omega_{U_i}}+\\lambda_UI\\right]^{-1}\\left(R_{ij}V_j^T\\right)_{j\\in\\Omega_{U_i}}\n",
        "\\end{equation}\n",
        "\n",
        "\\begin{equation}\n",
        "\\large\n",
        "V_j=\\left[\\left(U_iU_i^T\\right)_{i\\in\\Omega_{V_j}}+\\lambda_VI\\right]^{-1}\\left(R_{ij}U_i^T\\right)_{i\\in\\Omega_{V_j}}\n",
        "\\end{equation}"
      ]
    },
    {
      "cell_type": "code",
      "execution_count": 8,
      "metadata": {
        "colab": {},
        "colab_type": "code",
        "id": "DjKB4TzFkoJx"
      },
      "outputs": [],
      "source": [
        "def update_parameters():\n",
        "    U = parameters['U']\n",
        "    V = parameters['V']\n",
        "    lambda_U = parameters['lambda_U']\n",
        "    lambda_V = parameters['lambda_V']\n",
        "    \n",
        "    for i in range(n_users):\n",
        "        V_j = V[:, R[i, :] > 0]\n",
        "        U[:, i] = np.dot(np.linalg.inv(np.dot(V_j, V_j.T) + lambda_U * np.identity(n_dims)), np.dot(R[i, R[i, :] > 0], V_j.T))\n",
        "        \n",
        "    for j in range(n_movies):\n",
        "        U_i = U[:, R[:, j] > 0]\n",
        "        V[:, j] = np.dot(np.linalg.inv(np.dot(U_i, U_i.T) + lambda_V * np.identity(n_dims)), np.dot(R[R[:, j] > 0, j], U_i.T))\n",
        "        \n",
        "    parameters['U'] = U\n",
        "    parameters['V'] = V"
      ]
    },
    {
      "cell_type": "markdown",
      "metadata": {
        "colab_type": "text",
        "id": "hQ5in2inJApx"
      },
      "source": [
        "Now let's implement the Log-a posteriori:\n",
        "\n",
        "\\begin{equation}\n",
        "\\large\n",
        "L=-\\frac 1 2 \\left(\\sum_{i=1}^N\\sum_{j=1}^M(R_{ij}-U_i^TV_j)_{(i,j) \\in \\Omega_{R_{ij}}}^2+\\lambda_U\\sum_{i=1}^N\\|U_i\\|_{Fro}^2+\\lambda_V\\sum_{j=1}^M\\|V_j\\|_{Fro}^2\\right)\n",
        "\\end{equation}"
      ]
    },
    {
      "cell_type": "code",
      "execution_count": 9,
      "metadata": {
        "colab": {},
        "colab_type": "code",
        "id": "5PUgHUp2MeZI"
      },
      "outputs": [],
      "source": [
        "def log_a_posteriori():\n",
        "    lambda_U = parameters['lambda_U']\n",
        "    lambda_V = parameters['lambda_V']\n",
        "    U = parameters['U']\n",
        "    V = parameters['V']\n",
        "    \n",
        "    UV = np.dot(U.T, V)\n",
        "    R_UV = (R[R > 0] - UV[R > 0])\n",
        "    \n",
        "    return -0.5 * (np.sum(np.dot(R_UV, R_UV.T)) + lambda_U * np.sum(np.dot(U, U.T)) + lambda_V * np.sum(np.dot(V, V.T)))"
      ]
    },
    {
      "cell_type": "markdown",
      "metadata": {
        "colab_type": "text",
        "id": "68fmuPQrPRnU"
      },
      "source": [
        "The __predict__ function allows us to predict the rating value given the __user_id__ and the __movie_id__ parameters. The value has been scaled within the range 0-5"
      ]
    },
    {
      "cell_type": "code",
      "execution_count": 10,
      "metadata": {
        "colab": {},
        "colab_type": "code",
        "id": "neTN8ejbQ5dg"
      },
      "outputs": [],
      "source": [
        "def predict(user_id, movie_id):\n",
        "    U = parameters['U']\n",
        "    V = parameters['V']\n",
        "    r_ij = U[:, user_to_row[user_id]].T.reshape(1, -1) @ V[:, movie_to_column[movie_id]].reshape(-1, 1)\n",
        "\n",
        "    max_rating = parameters['max_rating']\n",
        "    min_rating = parameters['min_rating']\n",
        "\n",
        "    return 0 if max_rating == min_rating else ((r_ij[0][0] - min_rating) / (max_rating - min_rating)) * 5.0"
      ]
    },
    {
      "cell_type": "markdown",
      "metadata": {
        "colab_type": "text",
        "id": "7Rt2ol1j7OJ0"
      },
      "source": [
        "The __evaluate__ function will calculate the __RMSE__ of the model given a dataset (train or test)."
      ]
    },
    {
      "cell_type": "code",
      "execution_count": 11,
      "metadata": {
        "colab": {},
        "colab_type": "code",
        "id": "jnNGbogWh6OR"
      },
      "outputs": [],
      "source": [
        "def rmse_evaluate(dataset):\n",
        "    ground_truths = []\n",
        "    predictions = []\n",
        "    \n",
        "    for index, row in dataset.iterrows():\n",
        "        ground_truths.append(row.loc['rating'])\n",
        "        predictions.append(predict(row.loc['userId'], row.loc['movieId']))\n",
        "    \n",
        "    return mean_squared_error(ground_truths, predictions, squared=False)"
      ]
    },
    {
      "cell_type": "code",
      "execution_count": 31,
      "metadata": {},
      "outputs": [],
      "source": [
        "def rec_evaluate(dataset, metric_type):\n",
        "    all_actuals, all_predictions = [], []\n",
        "    movie_to_column_items = np.array(list(movie_to_column.items()))\n",
        "\n",
        "    users = sample(list(np.unique(dataset['userId'])), 100)\n",
        "    for idx, user_id in enumerate(users):\n",
        "        actual_likes = df_join[df_join['userId'] == user_id][['movieId', 'rating']].sort_values(by=['rating'], ascending=False)\n",
        "        # cut off where rating 4's end\n",
        "        actual_likes = actual_likes[actual_likes['rating'] >= 4.0]['movieId'].values\n",
        "        # actual_likes = actual_likes.head(10)['movieId'].values\n",
        "        predictions = np.zeros((n_movies, 1))\n",
        "\n",
        "        for i, movie in enumerate(movie_to_column_items):\n",
        "            predictions[i] = predict(user_id, movie[0])\n",
        "            \n",
        "        indices = np.argsort(-predictions, axis=0)\n",
        "\n",
        "        predicted_likes = []\n",
        "        for j in range(10):\n",
        "            movie_id = int(movie_to_column_items[np.where(movie_to_column_items[:, 1] == indices[j])][0][0])\n",
        "            predicted_likes.append(movie_id)\n",
        "        all_actuals.append(list(actual_likes))\n",
        "        all_predictions.append(predicted_likes)\n",
        "\n",
        "    if metric_type == \"MAPK\":\n",
        "        return ml_metrics.mapk(all_actuals, all_predictions, 10)\n",
        "    elif metric_type == \"MARK\":\n",
        "        return recmetrics.mark(all_actuals, all_predictions, 10)\n",
        "    elif metric_type == \"PER\":\n",
        "        return recmetrics.prediction_coverage(all_predictions, list(np.unique(dataset['movieId'])))\n",
        "    else:\n",
        "        raise Exception(\"Evaluating on invalid metric type.\")"
      ]
    },
    {
      "cell_type": "markdown",
      "metadata": {
        "colab_type": "text",
        "id": "6R1ePeME7qSW"
      },
      "source": [
        "For the purposes of scaling, we need the maximum and minimum rating values."
      ]
    },
    {
      "cell_type": "code",
      "execution_count": 13,
      "metadata": {
        "colab": {},
        "colab_type": "code",
        "id": "YNIlELvx0M0W"
      },
      "outputs": [],
      "source": [
        "def update_max_min_ratings():\n",
        "    U = parameters['U']\n",
        "    V = parameters['V']\n",
        "\n",
        "    R = U.T @ V\n",
        "    min_rating = np.min(R)\n",
        "    max_rating = np.max(R)\n",
        "\n",
        "    parameters['min_rating'] = min_rating\n",
        "    parameters['max_rating'] = max_rating"
      ]
    },
    {
      "cell_type": "markdown",
      "metadata": {
        "colab_type": "text",
        "id": "AZGq6J9pDl5O"
      },
      "source": [
        "The __train__ function implements the code necessary for training the model as well as recording the __RMSE__ values on the training and testing sets."
      ]
    },
    {
      "cell_type": "code",
      "execution_count": 32,
      "metadata": {
        "colab": {},
        "colab_type": "code",
        "id": "VYwTD_nBNO5F"
      },
      "outputs": [],
      "source": [
        "def train(n_epochs):\n",
        "    initialize_parameters(0.3, 0.3)\n",
        "    log_aps = []\n",
        "    rmse_train, rmse_test = [], []\n",
        "    mapk_train, mapk_test = [], []\n",
        "    mark_train, mark_test = [], []\n",
        "    per_train, per_test = [], []\n",
        "\n",
        "    update_max_min_ratings()\n",
        "    rmse_train.append(rmse_evaluate(train_set))\n",
        "    rmse_test.append(rmse_evaluate(test_set))\n",
        "    mapk_train.append(rec_evaluate(train_set, 'MAPK'))\n",
        "    mapk_test.append(rec_evaluate(test_set, 'MAPK'))\n",
        "    mark_train.append(rec_evaluate(train_set, 'MARK'))\n",
        "    mark_test.append(rec_evaluate(test_set, 'MARK'))\n",
        "    per_train.append(rec_evaluate(train_set, 'PER'))\n",
        "    per_test.append(rec_evaluate(test_set, 'PER'))\n",
        "    \n",
        "    for k in range(n_epochs):\n",
        "        update_parameters()\n",
        "        log_ap = log_a_posteriori()\n",
        "        log_aps.append(log_ap)\n",
        "\n",
        "        if (k + 1) % 10 == 0:\n",
        "            update_max_min_ratings()\n",
        "\n",
        "            rmse_train.append(rmse_evaluate(train_set))\n",
        "            rmse_test.append(rmse_evaluate(test_set))\n",
        "            mapk_train.append(rec_evaluate(train_set, 'MAPK'))\n",
        "            mapk_test.append(rec_evaluate(test_set, 'MAPK'))\n",
        "            mark_train.append(rec_evaluate(train_set, 'MARK'))\n",
        "            mark_test.append(rec_evaluate(test_set, 'MARK'))\n",
        "            per_train.append(rec_evaluate(train_set, 'PER'))\n",
        "            per_test.append(rec_evaluate(test_set, 'PER'))\n",
        "            print('Log p a-posteriori at iteration', k + 1, ':', log_ap)\n",
        "\n",
        "    update_max_min_ratings()\n",
        "\n",
        "    return log_aps, rmse_train, rmse_test, mapk_train, mapk_test, mark_train, mark_test, per_train, per_test"
      ]
    },
    {
      "cell_type": "markdown",
      "metadata": {
        "colab_type": "text",
        "id": "SJbozBbQPk9A"
      },
      "source": [
        "Let's train our model!"
      ]
    },
    {
      "cell_type": "code",
      "execution_count": 34,
      "metadata": {
        "colab": {
          "base_uri": "https://localhost:8080/",
          "height": 281
        },
        "colab_type": "code",
        "id": "XeH5sRNp7eHA",
        "outputId": "8e0cb783-9b32-41aa-9a4a-908aac9d613d"
      },
      "outputs": [
        {
          "name": "stdout",
          "output_type": "stream",
          "text": [
            "Log p a-posteriori at iteration 10 : -23716.97145848338\n"
          ]
        }
      ],
      "source": [
        "log_ps, rmse_train, rmse_test, mapk_train, mapk_test, mark_train, mark_test, per_train, per_test = train(100)"
      ]
    },
    {
      "cell_type": "markdown",
      "metadata": {
        "colab_type": "text",
        "id": "TKzp4hukECUE"
      },
      "source": [
        "Now let's take a look at some graphs"
      ]
    },
    {
      "cell_type": "code",
      "execution_count": 35,
      "metadata": {
        "colab": {
          "base_uri": "https://localhost:8080/"
        },
        "colab_type": "code",
        "id": "yRr_wko07e37",
        "outputId": "46313b0b-5d4a-4448-8638-12ef81baf4c2"
      },
      "outputs": [
        {
          "data": {
            "image/png": "[encoded data removed]",
            "text/plain": [
              "<Figure size 432x288 with 1 Axes>"
            ]
          },
          "metadata": {
            "needs_background": "light"
          },
          "output_type": "display_data"
        },
        {
          "data": {
            "image/png": "[encoded data removed]",
            "text/plain": [
              "<Figure size 1440x720 with 4 Axes>"
            ]
          },
          "metadata": {
            "needs_background": "light"
          },
          "output_type": "display_data"
        }
      ],
      "source": [
        "plt.plot(np.arange(len(log_ps)), log_ps, label='MAP')\n",
        "plt.legend()\n",
        "\n",
        "_, axes = plt.subplots(2, 2, figsize=(20, 10))\n",
        "plt.title('Training results')\n",
        "\n",
        "axes[0, 0].plot(np.arange(len(rmse_train)), rmse_train, label='RMSE train')\n",
        "axes[0, 0].plot(np.arange(len(rmse_test)), rmse_test, label='RMSE test')\n",
        "axes[0, 0].legend()\n",
        "\n",
        "axes[0, 1].plot(np.arange(len(mapk_train)), mapk_train, label='MAPK train')\n",
        "axes[0, 1].plot(np.arange(len(mapk_test)), mapk_test, label='MAPK test')\n",
        "axes[0, 1].legend()\n",
        "\n",
        "axes[1, 0].plot(np.arange(len(mark_train)), mark_train, label='MARK train')\n",
        "axes[1, 0].plot(np.arange(len(mark_test)), mark_test, label='MARK test')\n",
        "axes[1, 0].legend()\n",
        "\n",
        "axes[1, 1].plot(np.arange(len(per_train)), per_train, label='PER train')\n",
        "axes[1, 1].plot(np.arange(len(per_test)), per_test, label='PER test')\n",
        "axes[1, 1].legend()\n",
        "\n",
        "plt.show()"
      ]
    },
    {
      "cell_type": "markdown",
      "metadata": {
        "colab_type": "text",
        "id": "-nhrZDHvPx1-"
      },
      "source": [
        "Let's now evaluate our model on both the training and testing sets."
      ]
    },
    {
      "cell_type": "code",
      "execution_count": 36,
      "metadata": {},
      "outputs": [
        {
          "name": "stdout",
          "output_type": "stream",
          "text": [
            "RMSE of training set: 1.1066440183206396\n",
            "RMSE of testing set: 1.253353548771681\n",
            "MAPK of training set: 0.008714682539682541\n",
            "MAPK of testing set: 0.00715515873015873\n",
            "MARK of training set: 0.0005023215049414016\n",
            "MARK of testing set: 0.003029860099269318\n",
            "PERSONALIZATION of training set: 5.19\n",
            "PERSONALIZATION of testing set: 9.42\n"
          ]
        }
      ],
      "source": [
        "print('RMSE of training set:', rmse_evaluate(train_set))\n",
        "print('RMSE of testing set:', rmse_evaluate(test_set))\n",
        "print('MAPK of training set:', rec_evaluate(train_set, 'MAPK'))\n",
        "print('MAPK of testing set:', rec_evaluate(test_set, 'MAPK'))\n",
        "print('MARK of training set:', rec_evaluate(train_set, 'MARK'))\n",
        "print('MARK of testing set:', rec_evaluate(test_set, 'MARK'))\n",
        "print('PERSONALIZATION of training set:', rec_evaluate(train_set, 'PER'))\n",
        "print('PERSONALIZATION of testing set:', rec_evaluate(test_set, 'PER'))"
      ]
    },
    {
      "cell_type": "code",
      "execution_count": null,
      "metadata": {},
      "outputs": [],
      "source": []
    }
  ],
  "metadata": {
    "colab": {
      "collapsed_sections": [],
      "name": "PMF_Recommender_Systems.ipynb",
      "provenance": [],
      "toc_visible": true
    },
    "interpreter": {
      "hash": "cdb5447ba972f99df2d49a1363472ed5fc753ff807de34ea63b043c226c6919e"
    },
    "kernelspec": {
      "display_name": "Python 3.8.5 ('267env': venv)",
      "language": "python",
      "name": "python3"
    },
    "language_info": {
      "codemirror_mode": {
        "name": "ipython",
        "version": 3
      },
      "file_extension": ".py",
      "mimetype": "text/x-python",
      "name": "python",
      "nbconvert_exporter": "python",
      "pygments_lexer": "ipython3",
      "version": "3.8.5"
    }
  },
  "nbformat": 4,
  "nbformat_minor": 0
}
